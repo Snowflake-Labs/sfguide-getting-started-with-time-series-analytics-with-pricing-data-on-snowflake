{
 "metadata": {
  "kernelspec": {
   "display_name": "Streamlit Notebook",
   "name": "streamlit"
  }
 },
 "nbformat_minor": 5,
 "nbformat": 4,
 "cells": [
  {
   "cell_type": "markdown",
   "id": "6d84115f-875a-4337-aa66-1ca9665d9a11",
   "metadata": {
    "collapsed": false,
    "name": "overview_md"
   },
   "source": "## Time Series Analytics with Pricing Data on Snowflake\n\nThis solution demonstrates several advanced time series features using FactSet Tick Data on Snowflake. You will learn to leverage powerful SQL functions such as TIME_SLICE, ASOF JOIN, and RANGE BETWEEN to gain deeper insights into time series trade data.\n\nImport below packages which will be used in the demo:\n- matplotlib=3.8.0\n- seaborn=0.13.2\n"
  },
  {
   "cell_type": "code",
   "execution_count": null,
   "id": "3775908f-ca36-4846-8f38-5adca39217f2",
   "metadata": {
    "codeCollapsed": false,
    "collapsed": false,
    "language": "python",
    "name": "imports"
   },
   "outputs": [],
   "source": "# Import python packages\nimport streamlit as st\nimport pandas as pd\n\n# We can also use Snowpark for our analyses!\nfrom snowflake.snowpark.context import get_active_session\nsession = get_active_session()\n\n# Add a query tag to the session. This helps with debugging and performance monitoring.\nsession.query_tag = {\"origin\":\"sf_sit\", \"name\":\"time_series_analysis\", \"version\":{\"major\":1, \"minor\":0}}"
  },
  {
   "cell_type": "markdown",
   "id": "e527fb76-8073-43b6-8641-ee2802772e24",
   "metadata": {
    "collapsed": false,
    "name": "preview_md"
   },
   "source": [
    "## Preview Data\n",
    "We will be using FactSet Tick History data in this notebook. The data includes access high quality tick data sourced from FactSet’s real-time consolidated feed. In this notebook, we will focus on trade data from META. \n"
   ]
  },
  {
   "cell_type": "code",
   "execution_count": null,
   "id": "d7e62734-e85d-4af7-8408-e3b995fceb02",
   "metadata": {
    "codeCollapsed": false,
    "collapsed": false,
    "language": "sql",
    "name": "preview"
   },
   "outputs": [],
   "source": [
    "SELECT TOP 100 * \n",
    "FROM tick_history.public.th_sf_mktplace\n",
    "WHERE ticker='META' \n",
    "AND date =20221025\n",
    "AND msg_type = 0 -- trade messages\n",
    "AND security_type = 1; -- equity"
   ]
  },
  {
   "cell_type": "markdown",
   "id": "8371e65e-b26d-4587-b9da-0ae22b900b2a",
   "metadata": {
    "collapsed": false,
    "name": "meta_trades_md"
   },
   "source": [
    "We'll start by formatting the data and filtering for META. We will use this result for future queries. "
   ]
  },
  {
   "cell_type": "code",
   "execution_count": null,
   "id": "64556518-34d2-47ad-96fb-d0da7f54a1c2",
   "metadata": {
    "codeCollapsed": false,
    "collapsed": false,
    "language": "sql",
    "name": "meta_trades"
   },
   "outputs": [],
   "source": [
    "SELECT \n",
    "    TIMESTAMP_FROM_PARTS(\n",
    "        SUBSTR(date, 0, 4), -- year\n",
    "        SUBSTR(date, 5, 2), -- month\n",
    "        SUBSTR(date, 7, 2), -- day \n",
    "        SUBSTR(LPAD(time, 9, 0), 0, 2), -- hour\n",
    "        SUBSTR(LPAD(time, 9, 0), 3, 2), -- minute\n",
    "        SUBSTR(LPAD(time, 9, 0), 5, 2), -- second\n",
    "        RPAD(SUBSTR(LPAD(time, 9, 0), 7, 3), 9, 0) -- nanoseconds\n",
    "    ) AS trade_timestamp,\n",
    "    ticker,\n",
    "    last_price,\n",
    "    last_vol,\n",
    "FROM tick_history.public.th_sf_mktplace\n",
    "WHERE ticker = 'META'\n",
    "AND msg_type=0\n",
    "AND security_type = 1;"
   ]
  },
  {
   "cell_type": "markdown",
   "id": "3859fd31-d350-4057-a501-2d1d5cc2c476",
   "metadata": {
    "collapsed": false,
    "name": "prevailing_price_md"
   },
   "source": [
    "## Prevailing Price\n",
    "\n",
    "Let's now find a trade at a particular time. We can use a basic less than in a where clause to get this. "
   ]
  },
  {
   "cell_type": "code",
   "execution_count": null,
   "id": "7232b0b0-e7be-47e6-a18c-15685c724f67",
   "metadata": {
    "codeCollapsed": false,
    "collapsed": false,
    "language": "sql",
    "name": "prevailing_price"
   },
   "outputs": [],
   "source": [
    "SELECT *\n",
    "FROM {{meta_trades}}\n",
    "WHERE trade_timestamp <= '2022-10-10 12:00:00'\n",
    "ORDER BY trade_timestamp DESC\n",
    "LIMIT 1"
   ]
  },
  {
   "cell_type": "markdown",
   "id": "dd0e12c4-5718-4f24-a72b-b888a4203fad",
   "metadata": {
    "collapsed": false,
    "name": "time_slice_1_md"
   },
   "source": [
    "## TIME_SLICE\n",
    "[TIME_SLICE](https://docs.snowflake.com/en/sql-reference/functions/time_slice) calculates the beginning or end of a “slice” of time, where the length of the slice is a multiple of a standard unit of time (minute, hour, day, etc.). This function can be used to calculate the start and end times of fixed-width “buckets” into which data can be categorized."
   ]
  },
  {
   "cell_type": "markdown",
   "id": "fe26fe38-75c8-4da3-ae4f-936bc9737655",
   "metadata": {
    "collapsed": false,
    "name": "time_slice_2_md"
   },
   "source": [
    "### Using TIME_SLICE\n",
    "We will now use [TIME_SLICE](https://docs.snowflake.com/en/sql-reference/functions/time_slice) to get the average weekly trade price and total volume. Snowflake Notebooks allow you to [reference the results](https://docs.snowflake.com/en/user-guide/ui-snowsight/notebooks-develop-run#reference-cells-and-variables-in-sf-notebooks) of other cell queries using Jinja syntax."
   ]
  },
  {
   "cell_type": "code",
   "execution_count": null,
   "id": "8d50cbf4-0c8d-4950-86cb-114990437ac9",
   "metadata": {
    "codeCollapsed": false,
    "collapsed": false,
    "language": "sql",
    "name": "weekly_data"
   },
   "outputs": [],
   "source": [
    "SELECT \n",
    "    TIME_SLICE(trade_timestamp, 1, 'WEEK', 'START') AS week_starting,\n",
    "    AVG(last_price) AS average_price,\n",
    "    SUM(last_vol) AS total_volume\n",
    "FROM {{meta_trades}}\n",
    "WHERE ticker='META'\n",
    "GROUP BY week_starting\n",
    "ORDER BY week_starting;"
   ]
  },
  {
   "cell_type": "markdown",
   "id": "9b5c3745-dedd-4c60-8d22-7c63e82c4048",
   "metadata": {
    "collapsed": false,
    "name": "plot_slice_md"
   },
   "source": [
    "### Plot Data\n",
    "Finally, we can use Streamlit plots directly in our notebook to do a quick plot of average weekly price."
   ]
  },
  {
   "cell_type": "code",
   "execution_count": null,
   "id": "babb3df2-574e-4567-98d5-4c979e90c178",
   "metadata": {
    "codeCollapsed": false,
    "collapsed": false,
    "language": "python",
    "name": "plot_weekly_slice"
   },
   "outputs": [],
   "source": [
    "st.line_chart(weekly_data, x=\"WEEK_STARTING\", y=\"AVERAGE_PRICE\")"
   ]
  },
  {
   "cell_type": "markdown",
   "id": "a6bb1ac9-be35-4157-b902-9971468c6e9d",
   "metadata": {
    "collapsed": false,
    "name": "month_slice_md"
   },
   "source": [
    "### Slice by Month\n",
    "\n",
    "We can also slice by YEAR, QUARTER, MONTH, WEEK, DAY with TIME_SLICE. Let's find average montly price and total volume."
   ]
  },
  {
   "cell_type": "code",
   "execution_count": null,
   "id": "eb63ecba-4fdd-429e-99c5-d0f4e82c4336",
   "metadata": {
    "codeCollapsed": false,
    "collapsed": false,
    "language": "sql",
    "name": "month_slice"
   },
   "outputs": [],
   "source": [
    "SELECT \n",
    "    TIME_SLICE(trade_timestamp, 1, 'MONTH', 'START') AS month_starting,\n",
    "    AVG(last_price) AS average_price,\n",
    "    SUM(last_vol) AS total_volume\n",
    "FROM {{meta_trades}}\n",
    "WHERE ticker='META'\n",
    "GROUP BY month_starting\n",
    "ORDER BY month_starting;"
   ]
  },
  {
   "cell_type": "markdown",
   "id": "5f1b63e1-f3f7-420e-9a07-151fd6f0f1a5",
   "metadata": {
    "collapsed": false,
    "name": "hour_slice_md"
   },
   "source": [
    "### Slice by Hour\n",
    "\n",
    "Let's now slice by hour"
   ]
  },
  {
   "cell_type": "code",
   "execution_count": null,
   "id": "603b4913-63cc-46d7-9213-39369877f1d3",
   "metadata": {
    "codeCollapsed": false,
    "collapsed": false,
    "language": "sql",
    "name": "hour_slice"
   },
   "outputs": [],
   "source": [
    "SELECT \n",
    "    TIME_SLICE(trade_timestamp, 1, 'HOUR', 'START') AS hour_starting,\n",
    "    AVG(last_price) AS average_price,\n",
    "    SUM(last_vol) AS total_volume\n",
    "FROM {{meta_trades}}\n",
    "WHERE DATE(trade_timestamp) = '2022-09-19'\n",
    "AND ticker='META'\n",
    "GROUP BY hour_starting\n",
    "ORDER BY hour_starting;"
   ]
  },
  {
   "cell_type": "markdown",
   "id": "a337bbd3-79c1-41b1-8bc0-3de181125286",
   "metadata": {
    "collapsed": false,
    "name": "transaction_cost_md"
   },
   "source": [
    "## Transaction Cost \n",
    "\n",
    "We will now determine transaction costs by joining Trades with the closest creceding price data. To accomplish this, we will us an [ASOF JOIN](https://docs.snowflake.com/en/sql-reference/constructs/asof-join) to join our trade data with closing price data, which we have stored in another table."
   ]
  },
  {
   "cell_type": "code",
   "execution_count": null,
   "id": "ddea28af-5d36-42c3-9c14-af25b181b804",
   "metadata": {
    "collapsed": false,
    "language": "sql",
    "name": "meta_closing_prices"
   },
   "outputs": [],
   "source": [
    "SELECT \n",
    "    TIMESTAMP_FROM_PARTS(\n",
    "        SUBSTR(date, 0, 4), -- year\n",
    "        SUBSTR(date, 5, 2), -- month\n",
    "        SUBSTR(date, 7, 2), -- day \n",
    "        SUBSTR(LPAD(time, 9, 0), 0, 2), -- hour\n",
    "        SUBSTR(LPAD(time, 9, 0), 3, 2), -- minute\n",
    "        SUBSTR(LPAD(time, 9, 0), 5, 2), -- second\n",
    "        RPAD(SUBSTR(LPAD(time, 9, 0), 7, 3), 9, 0) -- nanoseconds\n",
    "    ) AS timestamp,\n",
    "    ticker,\n",
    "    closing_price\n",
    "FROM raw.closing_prices\n",
    "WHERE ticker = 'META';"
   ]
  },
  {
   "cell_type": "code",
   "execution_count": null,
   "id": "f174d2c4-56a9-4455-a130-a241d58bebee",
   "metadata": {
    "codeCollapsed": false,
    "collapsed": false,
    "language": "sql",
    "name": "transaction_cost"
   },
   "outputs": [],
   "source": [
    "SELECT\n",
    "    t1.ticker,\n",
    "    t1.trade_timestamp,\n",
    "    t1.last_price AS trade_price,\n",
    "    t2.closing_price,\n",
    "    trade_price - t2.closing_price AS price_impact,\n",
    "    t1.last_vol\n",
    "FROM \n",
    "     {{meta_trades}} t1\n",
    "ASOF JOIN \n",
    "     {{meta_closing_prices}} t2\n",
    "MATCH_CONDITION \n",
    "    (t1.trade_timestamp <= t2.timestamp)\n",
    "ON \n",
    "    t1.ticker = t2.ticker\n",
    "ORDER BY \n",
    "    t1.ticker,\n",
    "    t1.trade_timestamp;\n"
   ]
  },
  {
   "cell_type": "markdown",
   "id": "106561ad-5f14-4af1-be3f-1edab25595b0",
   "metadata": {
    "collapsed": false,
    "name": "plots_md"
   },
   "source": [
    "## Plots for Transaction Cost Analysis"
   ]
  },
  {
   "cell_type": "markdown",
   "id": "2dce6261-6bf6-45f0-ae09-5eecdc53bc40",
   "metadata": {
    "collapsed": false,
    "name": "daily_sampling_md"
   },
   "source": [
    "Now that we have joined trade and price data, let's calculate the price impact. Let's again use TIME_SLICE to get the average daily trade price and closing price, so we can plot. "
   ]
  },
  {
   "cell_type": "code",
   "execution_count": null,
   "id": "37ca6423-a1c2-4a73-9b32-17ebafbbb815",
   "metadata": {
    "collapsed": false,
    "language": "sql",
    "name": "transaction_cost_daily"
   },
   "outputs": [],
   "source": [
    "SELECT \n",
    "    TIME_SLICE(trade_timestamp, 1, 'DAY', 'START') AS trade_date,\n",
    "    AVG(trade_price) AS trade_price,\n",
    "    AVG(closing_price) AS closing_price,\n",
    "    AVG(price_impact) AS price_impact,\n",
    "    SUM(price_impact) AS cumulative_price_impact,\n",
    "    SUM(last_vol) AS total_volume\n",
    "FROM {{transaction_cost}}\n",
    "GROUP BY trade_date\n",
    "ORDER BY trade_date;"
   ]
  },
  {
   "cell_type": "markdown",
   "id": "9476d5c5-eaef-4286-8132-abe153d23dff",
   "metadata": {
    "collapsed": false,
    "name": "to_pandas_md"
   },
   "source": [
    "We can also reference SQL cells in Python within the same notebook. Let's convert the daily sampled data to pandas for plotting. "
   ]
  },
  {
   "cell_type": "code",
   "execution_count": null,
   "id": "5e70d73e-2f86-45b9-9a8c-1b5276fb5303",
   "metadata": {
    "codeCollapsed": false,
    "collapsed": false,
    "language": "python",
    "name": "to_pandas"
   },
   "outputs": [],
   "source": [
    "import matplotlib.pyplot as plt\n",
    "import seaborn as sns\n",
    "\n",
    "df = transaction_cost_daily.to_pandas()"
   ]
  },
  {
   "cell_type": "markdown",
   "id": "b6e325d8-e294-49d3-8edb-8cad3d6d95cc",
   "metadata": {
    "collapsed": false,
    "name": "price_comp_md"
   },
   "source": [
    "### Trade Prices vs. Market Prices Over Time"
   ]
  },
  {
   "cell_type": "code",
   "execution_count": null,
   "id": "396465b0-0893-4aa8-b362-77f8271d531f",
   "metadata": {
    "codeCollapsed": false,
    "collapsed": false,
    "language": "python",
    "name": "price_comp"
   },
   "outputs": [],
   "source": [
    "plt.figure(figsize=(14, 7))\n",
    "sns.lineplot(x='TRADE_DATE', y='TRADE_PRICE', data=df, label='Trade Price', color='blue')\n",
    "sns.lineplot(x='TRADE_DATE', y='CLOSING_PRICE', data=df, label='Market Price', color='red', linestyle='--')\n",
    "plt.xlabel('Date')\n",
    "plt.ylabel('Price')\n",
    "plt.title('Trade Prices vs. Market Prices Over Time')\n",
    "plt.legend()\n",
    "plt.show()"
   ]
  },
  {
   "cell_type": "markdown",
   "id": "f3b68256-622f-4273-83a7-d935f9fe4d48",
   "metadata": {
    "collapsed": false,
    "name": "price_impact_md"
   },
   "source": [
    "### Price Impact of Trades"
   ]
  },
  {
   "cell_type": "code",
   "execution_count": null,
   "id": "85eee5b5-9189-4934-8081-92d125af7e2c",
   "metadata": {
    "codeCollapsed": false,
    "collapsed": false,
    "language": "python",
    "name": "price_impact"
   },
   "outputs": [],
   "source": [
    "plt.figure(figsize=(14, 7))\n",
    "sns.scatterplot(x='TRADE_DATE', y='PRICE_IMPACT', data=df, alpha=0.5, color='purple')\n",
    "plt.axhline(0, color='black', linestyle='--')\n",
    "plt.xlabel('Date')\n",
    "plt.ylabel('Price Impact')\n",
    "plt.title('Price Impact of Trades Over Time')\n",
    "plt.show()"
   ]
  },
  {
   "cell_type": "markdown",
   "id": "dfed4281-f2f3-4ed7-b5c8-f8095117921f",
   "metadata": {
    "collapsed": false,
    "name": "price_volume_md"
   },
   "source": [
    "### Volume vs. Price Impact"
   ]
  },
  {
   "cell_type": "code",
   "execution_count": null,
   "id": "cbdc4e38-d675-48e4-8b16-21faee93dfaf",
   "metadata": {
    "codeCollapsed": false,
    "collapsed": false,
    "language": "python",
    "name": "price_volume"
   },
   "outputs": [],
   "source": [
    "plt.figure(figsize=(14, 7))\n",
    "sns.scatterplot(x='TOTAL_VOLUME', y='PRICE_IMPACT', data=df, alpha=0.5, color='green')\n",
    "plt.xlabel('Volume')\n",
    "plt.ylabel('Price Impact')\n",
    "plt.title('Trade Volume vs. Price Impact')\n",
    "plt.show()"
   ]
  },
  {
   "cell_type": "code",
   "execution_count": null,
   "id": "3255fee4-3e76-4fdd-b0fe-3568eade929f",
   "metadata": {
    "codeCollapsed": false,
    "collapsed": false,
    "language": "python",
    "name": "price_impact_2"
   },
   "outputs": [],
   "source": [
    "plt.figure(figsize=(14, 7))\n",
    "sns.histplot(df['PRICE_IMPACT'], bins=50, color='orange', kde=True)\n",
    "plt.xlabel('Price Impact')\n",
    "plt.ylabel('Frequency')\n",
    "plt.title('Distribution of Price Impacts')\n",
    "plt.show()"
   ]
  },
  {
   "cell_type": "code",
   "execution_count": null,
   "id": "442949f6-6a58-414d-9a5f-5dd47a444d37",
   "metadata": {
    "codeCollapsed": false,
    "collapsed": false,
    "language": "python",
    "name": "price_impact_3"
   },
   "outputs": [],
   "source": [
    "st.line_chart(df.set_index('TRADE_DATE')['CUMULATIVE_PRICE_IMPACT'], use_container_width=True, color = [\"#FF0000\"])"
   ]
  },
  {
   "cell_type": "markdown",
   "id": "742f1c32-ae2d-4775-9eff-33de78c01b53",
   "metadata": {
    "collapsed": false,
    "name": "range_between_md"
   },
   "source": [
    "## Range Between\n",
    "A range-based [window frame](https://docs.snowflake.com/en/sql-reference/functions-analytic) consists of a logically computed set of rows rather than a physical number of rows as would be expressed in a row-based frame. Let's explore Range Between to create interesting time series metrics on our data."
   ]
  },
  {
   "cell_type": "markdown",
   "id": "466859df-6aeb-463c-95b6-5e4e938759b0",
   "metadata": {
    "collapsed": false,
    "name": "rolling_avg_md"
   },
   "source": [
    "### Rolling Average\n",
    "\n",
    "Let's start by getting the 10 minute rolling average for META trades"
   ]
  },
  {
   "cell_type": "code",
   "execution_count": null,
   "id": "a43cefc7-91e7-4fa2-8ac3-897c3d21d661",
   "metadata": {
    "codeCollapsed": false,
    "collapsed": false,
    "language": "sql",
    "name": "rolling_avg"
   },
   "outputs": [],
   "source": [
    "SELECT\n",
    "    trade_timestamp,\n",
    "    last_price,\n",
    "    ticker,\n",
    "    AVG(last_price) OVER (\n",
    "        PARTITION BY ticker\n",
    "        ORDER BY trade_timestamp \n",
    "        RANGE BETWEEN INTERVAL '10 MINUTE' PRECEDING AND CURRENT ROW\n",
    "    ) AS moving_avg\n",
    "FROM {{meta_trades}}\n",
    "WHERE DATE(trade_timestamp) = '2022-06-09'"
   ]
  },
  {
   "cell_type": "markdown",
   "id": "7fc02c50-b51d-46c8-9912-046266dd4d88",
   "metadata": {
    "collapsed": false,
    "name": "volume_weighted_md"
   },
   "source": [
    "### Volume Weighted Average\n",
    "Let's now look at the volume weighted average price. We'll again use 10 minute intervals"
   ]
  },
  {
   "cell_type": "code",
   "execution_count": null,
   "id": "e0cca993-7f76-4d1a-ae85-907ab62e02ff",
   "metadata": {
    "collapsed": false,
    "language": "sql",
    "name": "volume_weighted"
   },
   "outputs": [],
   "source": [
    "SELECT \n",
    "    ticker,\n",
    "    trade_timestamp,\n",
    "    last_price,\n",
    "    last_vol,\n",
    "    SUM(last_price * last_vol) OVER (\n",
    "        PARTITION BY ticker \n",
    "        ORDER BY trade_timestamp \n",
    "        RANGE BETWEEN INTERVAL '10 MINUTE' PRECEDING AND CURRENT ROW\n",
    "    ) / \n",
    "    SUM(last_vol) OVER (\n",
    "        PARTITION BY ticker \n",
    "        ORDER BY trade_timestamp \n",
    "        RANGE BETWEEN INTERVAL '10 MINUTE' PRECEDING AND CURRENT ROW\n",
    "    ) AS volume_weighted_avg\n",
    "FROM {{meta_trades}}\n",
    "WHERE DATE(trade_timestamp) = '2022-06-09'"
   ]
  },
  {
   "cell_type": "markdown",
   "id": "8626c781-82c4-4cd6-92f3-3537f6365f03",
   "metadata": {
    "collapsed": false,
    "name": "time_shifts_md"
   },
   "source": [
    "## Time Shifts\n",
    "\n",
    "Finally, let's look at how we can use time shifts. We'll start by getting the previous trade price using [LAG](https://docs.snowflake.com/en/sql-reference/functions/lag). "
   ]
  },
  {
   "cell_type": "code",
   "execution_count": null,
   "id": "effe3d98-0b53-41e0-8e50-b92c1662f50b",
   "metadata": {
    "codeCollapsed": false,
    "collapsed": false,
    "language": "sql",
    "name": "lag"
   },
   "outputs": [],
   "source": [
    "SELECT \n",
    "    ticker,\n",
    "    trade_timestamp,\n",
    "    last_price,\n",
    "    LAG(last_price, 1) OVER (\n",
    "        PARTITION BY ticker \n",
    "        ORDER BY trade_timestamp\n",
    "    ) AS previous_price\n",
    "FROM {{meta_trades}}\n",
    "WHERE DATE(trade_timestamp) = '2022-06-09'"
   ]
  },
  {
   "cell_type": "markdown",
   "id": "0a4db120-95ed-4925-b8f7-a9531174614f",
   "metadata": {
    "collapsed": false,
    "name": "lead_md"
   },
   "source": [
    "We'll now use [LEAD](https://docs.snowflake.com/en/sql-reference/functions/lead) to get the next immediate trade. "
   ]
  },
  {
   "cell_type": "code",
   "execution_count": null,
   "id": "f0dfae6c-c0da-4a14-bb88-a9324b0b0cf8",
   "metadata": {
    "collapsed": false,
    "language": "sql",
    "name": "lead"
   },
   "outputs": [],
   "source": [
    "SELECT \n",
    "    ticker,\n",
    "    trade_timestamp,\n",
    "    last_price,\n",
    "    LEAD(last_price, 1) OVER (\n",
    "        PARTITION BY ticker \n",
    "        ORDER BY trade_timestamp\n",
    "    ) AS next_price\n",
    "FROM {{meta_trades}}\n",
    "WHERE DATE(trade_timestamp) = '2022-06-09'"
   ]
  }
 ]
}